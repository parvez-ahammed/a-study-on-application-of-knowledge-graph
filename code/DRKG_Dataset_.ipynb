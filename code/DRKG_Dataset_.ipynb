{
  "nbformat": 4,
  "nbformat_minor": 0,
  "metadata": {
    "colab": {
      "provenance": [],
      "gpuType": "T4"
    },
    "kernelspec": {
      "name": "python3",
      "display_name": "Python 3"
    },
    "language_info": {
      "name": "python"
    },
    "accelerator": "GPU"
  },
  "cells": [
    {
      "cell_type": "code",
      "execution_count": null,
      "metadata": {
        "colab": {
          "base_uri": "https://localhost:8080/"
        },
        "id": "-RirMHErFXhD",
        "outputId": "c0b87fc2-af20-44ae-814d-cd3118a4e139"
      },
      "outputs": [
        {
          "output_type": "stream",
          "name": "stdout",
          "text": [
            "--2024-06-02 18:54:18--  https://dgl-data.s3-us-west-2.amazonaws.com/dataset/DRKG/drkg.tar.gz\n",
            "Resolving dgl-data.s3-us-west-2.amazonaws.com (dgl-data.s3-us-west-2.amazonaws.com)... 3.5.80.197, 52.92.179.250, 3.5.85.143, ...\n",
            "Connecting to dgl-data.s3-us-west-2.amazonaws.com (dgl-data.s3-us-west-2.amazonaws.com)|3.5.80.197|:443... connected.\n",
            "HTTP request sent, awaiting response... 200 OK\n",
            "Length: 216650245 (207M) [application/x-tar]\n",
            "Saving to: ‘drkg.tar.gz.1’\n",
            "\n",
            "drkg.tar.gz.1       100%[===================>] 206.61M  48.2MB/s    in 4.6s    \n",
            "\n",
            "2024-06-02 18:54:23 (45.0 MB/s) - ‘drkg.tar.gz.1’ saved [216650245/216650245]\n",
            "\n"
          ]
        }
      ],
      "source": [
        "!wget https://dgl-data.s3-us-west-2.amazonaws.com/dataset/DRKG/drkg.tar.gz"
      ]
    },
    {
      "cell_type": "code",
      "source": [
        "#extract tar.gz\n",
        "!tar -xzvf drkg.tar.gz\n",
        "! ls\n"
      ],
      "metadata": {
        "colab": {
          "base_uri": "https://localhost:8080/"
        },
        "id": "qdREA8egHIZG",
        "outputId": "ac59ddac-bb35-45dc-db6c-95cd8ebd2fdd"
      },
      "execution_count": null,
      "outputs": [
        {
          "output_type": "stream",
          "name": "stdout",
          "text": [
            "._drkg.tsv\n",
            "drkg.tsv\n",
            "._embed\n",
            "embed/\n",
            "embed/DRKG_TransE_l2_relation.npy\n",
            "embed/._relations.tsv\n",
            "embed/relations.tsv\n",
            "embed/._entities.tsv\n",
            "embed/entities.tsv\n",
            "embed/Readme.md\n",
            "embed/mol_edgepred.npy\n",
            "embed/mol_infomax.npy\n",
            "embed/mol_masking.npy\n",
            "embed/mol_contextpred.npy\n",
            "embed/DRKG_TransE_l2_entity.npy\n",
            "._entity2src.tsv\n",
            "entity2src.tsv\n",
            "._relation_glossary.tsv\n",
            "relation_glossary.tsv\n",
            "Basic_GCN.ipynb  drkg.tsv\t\t    Graphs_Queries.ipynb  PyG_NC.ipynb\n",
            "build\t\t embed\t\t\t    img\t\t\t  README.md\n",
            "colmap\t\t entity2src.tsv\t\t    Metadata.ipynb\t  relation_glossary.tsv\n",
            "creds.dat\t excercises\t\t    NetworkX.ipynb\t  sample_data\n",
            "data\t\t Fraud_Detection.ipynb\t    Node2VecIntro.ipynb   Sparql.ipynb\n",
            "DGL.ipynb\t Graph_Analytics.ipynb\t    Node2Vec.ipynb\t  Spectral_Graph.ipynb\n",
            "drkg.tar.gz\t Graph_Powered_ML_Workshop  oasis.py\t\t  tools\n",
            "drkg.tar.gz.1\t Graph_properties.ipynb     PyG_MP.ipynb\n"
          ]
        }
      ]
    },
    {
      "cell_type": "code",
      "source": [
        "import pandas as pd\n",
        "import numpy as np\n",
        "import sys"
      ],
      "metadata": {
        "id": "5QlzcFthIYBC"
      },
      "execution_count": null,
      "outputs": []
    },
    {
      "cell_type": "code",
      "source": [
        "drkg_file = 'drkg.tsv'\n",
        "df = pd.read_csv(drkg_file, sep='\\t', header=None)\n",
        "df.head()"
      ],
      "metadata": {
        "colab": {
          "base_uri": "https://localhost:8080/",
          "height": 206
        },
        "id": "UKO3DKbvH0RD",
        "outputId": "48797669-b52f-4af2-d809-32af14606738"
      },
      "execution_count": null,
      "outputs": [
        {
          "output_type": "execute_result",
          "data": {
            "text/plain": [
              "            0                               1            2\n",
              "0  Gene::2157  bioarx::HumGenHumGen:Gene:Gene   Gene::2157\n",
              "1  Gene::2157  bioarx::HumGenHumGen:Gene:Gene   Gene::5264\n",
              "2  Gene::2157  bioarx::HumGenHumGen:Gene:Gene   Gene::2158\n",
              "3  Gene::2157  bioarx::HumGenHumGen:Gene:Gene   Gene::3309\n",
              "4  Gene::2157  bioarx::HumGenHumGen:Gene:Gene  Gene::28912"
            ],
            "text/html": [
              "\n",
              "  <div id=\"df-7da9811c-18b0-4195-9f74-d9268d5e3681\" class=\"colab-df-container\">\n",
              "    <div>\n",
              "<style scoped>\n",
              "    .dataframe tbody tr th:only-of-type {\n",
              "        vertical-align: middle;\n",
              "    }\n",
              "\n",
              "    .dataframe tbody tr th {\n",
              "        vertical-align: top;\n",
              "    }\n",
              "\n",
              "    .dataframe thead th {\n",
              "        text-align: right;\n",
              "    }\n",
              "</style>\n",
              "<table border=\"1\" class=\"dataframe\">\n",
              "  <thead>\n",
              "    <tr style=\"text-align: right;\">\n",
              "      <th></th>\n",
              "      <th>0</th>\n",
              "      <th>1</th>\n",
              "      <th>2</th>\n",
              "    </tr>\n",
              "  </thead>\n",
              "  <tbody>\n",
              "    <tr>\n",
              "      <th>0</th>\n",
              "      <td>Gene::2157</td>\n",
              "      <td>bioarx::HumGenHumGen:Gene:Gene</td>\n",
              "      <td>Gene::2157</td>\n",
              "    </tr>\n",
              "    <tr>\n",
              "      <th>1</th>\n",
              "      <td>Gene::2157</td>\n",
              "      <td>bioarx::HumGenHumGen:Gene:Gene</td>\n",
              "      <td>Gene::5264</td>\n",
              "    </tr>\n",
              "    <tr>\n",
              "      <th>2</th>\n",
              "      <td>Gene::2157</td>\n",
              "      <td>bioarx::HumGenHumGen:Gene:Gene</td>\n",
              "      <td>Gene::2158</td>\n",
              "    </tr>\n",
              "    <tr>\n",
              "      <th>3</th>\n",
              "      <td>Gene::2157</td>\n",
              "      <td>bioarx::HumGenHumGen:Gene:Gene</td>\n",
              "      <td>Gene::3309</td>\n",
              "    </tr>\n",
              "    <tr>\n",
              "      <th>4</th>\n",
              "      <td>Gene::2157</td>\n",
              "      <td>bioarx::HumGenHumGen:Gene:Gene</td>\n",
              "      <td>Gene::28912</td>\n",
              "    </tr>\n",
              "  </tbody>\n",
              "</table>\n",
              "</div>\n",
              "    <div class=\"colab-df-buttons\">\n",
              "\n",
              "  <div class=\"colab-df-container\">\n",
              "    <button class=\"colab-df-convert\" onclick=\"convertToInteractive('df-7da9811c-18b0-4195-9f74-d9268d5e3681')\"\n",
              "            title=\"Convert this dataframe to an interactive table.\"\n",
              "            style=\"display:none;\">\n",
              "\n",
              "  <svg xmlns=\"http://www.w3.org/2000/svg\" height=\"24px\" viewBox=\"0 -960 960 960\">\n",
              "    <path d=\"M120-120v-720h720v720H120Zm60-500h600v-160H180v160Zm220 220h160v-160H400v160Zm0 220h160v-160H400v160ZM180-400h160v-160H180v160Zm440 0h160v-160H620v160ZM180-180h160v-160H180v160Zm440 0h160v-160H620v160Z\"/>\n",
              "  </svg>\n",
              "    </button>\n",
              "\n",
              "  <style>\n",
              "    .colab-df-container {\n",
              "      display:flex;\n",
              "      gap: 12px;\n",
              "    }\n",
              "\n",
              "    .colab-df-convert {\n",
              "      background-color: #E8F0FE;\n",
              "      border: none;\n",
              "      border-radius: 50%;\n",
              "      cursor: pointer;\n",
              "      display: none;\n",
              "      fill: #1967D2;\n",
              "      height: 32px;\n",
              "      padding: 0 0 0 0;\n",
              "      width: 32px;\n",
              "    }\n",
              "\n",
              "    .colab-df-convert:hover {\n",
              "      background-color: #E2EBFA;\n",
              "      box-shadow: 0px 1px 2px rgba(60, 64, 67, 0.3), 0px 1px 3px 1px rgba(60, 64, 67, 0.15);\n",
              "      fill: #174EA6;\n",
              "    }\n",
              "\n",
              "    .colab-df-buttons div {\n",
              "      margin-bottom: 4px;\n",
              "    }\n",
              "\n",
              "    [theme=dark] .colab-df-convert {\n",
              "      background-color: #3B4455;\n",
              "      fill: #D2E3FC;\n",
              "    }\n",
              "\n",
              "    [theme=dark] .colab-df-convert:hover {\n",
              "      background-color: #434B5C;\n",
              "      box-shadow: 0px 1px 3px 1px rgba(0, 0, 0, 0.15);\n",
              "      filter: drop-shadow(0px 1px 2px rgba(0, 0, 0, 0.3));\n",
              "      fill: #FFFFFF;\n",
              "    }\n",
              "  </style>\n",
              "\n",
              "    <script>\n",
              "      const buttonEl =\n",
              "        document.querySelector('#df-7da9811c-18b0-4195-9f74-d9268d5e3681 button.colab-df-convert');\n",
              "      buttonEl.style.display =\n",
              "        google.colab.kernel.accessAllowed ? 'block' : 'none';\n",
              "\n",
              "      async function convertToInteractive(key) {\n",
              "        const element = document.querySelector('#df-7da9811c-18b0-4195-9f74-d9268d5e3681');\n",
              "        const dataTable =\n",
              "          await google.colab.kernel.invokeFunction('convertToInteractive',\n",
              "                                                    [key], {});\n",
              "        if (!dataTable) return;\n",
              "\n",
              "        const docLinkHtml = 'Like what you see? Visit the ' +\n",
              "          '<a target=\"_blank\" href=https://colab.research.google.com/notebooks/data_table.ipynb>data table notebook</a>'\n",
              "          + ' to learn more about interactive tables.';\n",
              "        element.innerHTML = '';\n",
              "        dataTable['output_type'] = 'display_data';\n",
              "        await google.colab.output.renderOutput(dataTable, element);\n",
              "        const docLink = document.createElement('div');\n",
              "        docLink.innerHTML = docLinkHtml;\n",
              "        element.appendChild(docLink);\n",
              "      }\n",
              "    </script>\n",
              "  </div>\n",
              "\n",
              "\n",
              "<div id=\"df-8fb60e88-c86a-4b31-bbc4-4b8428f8e2f5\">\n",
              "  <button class=\"colab-df-quickchart\" onclick=\"quickchart('df-8fb60e88-c86a-4b31-bbc4-4b8428f8e2f5')\"\n",
              "            title=\"Suggest charts\"\n",
              "            style=\"display:none;\">\n",
              "\n",
              "<svg xmlns=\"http://www.w3.org/2000/svg\" height=\"24px\"viewBox=\"0 0 24 24\"\n",
              "     width=\"24px\">\n",
              "    <g>\n",
              "        <path d=\"M19 3H5c-1.1 0-2 .9-2 2v14c0 1.1.9 2 2 2h14c1.1 0 2-.9 2-2V5c0-1.1-.9-2-2-2zM9 17H7v-7h2v7zm4 0h-2V7h2v10zm4 0h-2v-4h2v4z\"/>\n",
              "    </g>\n",
              "</svg>\n",
              "  </button>\n",
              "\n",
              "<style>\n",
              "  .colab-df-quickchart {\n",
              "      --bg-color: #E8F0FE;\n",
              "      --fill-color: #1967D2;\n",
              "      --hover-bg-color: #E2EBFA;\n",
              "      --hover-fill-color: #174EA6;\n",
              "      --disabled-fill-color: #AAA;\n",
              "      --disabled-bg-color: #DDD;\n",
              "  }\n",
              "\n",
              "  [theme=dark] .colab-df-quickchart {\n",
              "      --bg-color: #3B4455;\n",
              "      --fill-color: #D2E3FC;\n",
              "      --hover-bg-color: #434B5C;\n",
              "      --hover-fill-color: #FFFFFF;\n",
              "      --disabled-bg-color: #3B4455;\n",
              "      --disabled-fill-color: #666;\n",
              "  }\n",
              "\n",
              "  .colab-df-quickchart {\n",
              "    background-color: var(--bg-color);\n",
              "    border: none;\n",
              "    border-radius: 50%;\n",
              "    cursor: pointer;\n",
              "    display: none;\n",
              "    fill: var(--fill-color);\n",
              "    height: 32px;\n",
              "    padding: 0;\n",
              "    width: 32px;\n",
              "  }\n",
              "\n",
              "  .colab-df-quickchart:hover {\n",
              "    background-color: var(--hover-bg-color);\n",
              "    box-shadow: 0 1px 2px rgba(60, 64, 67, 0.3), 0 1px 3px 1px rgba(60, 64, 67, 0.15);\n",
              "    fill: var(--button-hover-fill-color);\n",
              "  }\n",
              "\n",
              "  .colab-df-quickchart-complete:disabled,\n",
              "  .colab-df-quickchart-complete:disabled:hover {\n",
              "    background-color: var(--disabled-bg-color);\n",
              "    fill: var(--disabled-fill-color);\n",
              "    box-shadow: none;\n",
              "  }\n",
              "\n",
              "  .colab-df-spinner {\n",
              "    border: 2px solid var(--fill-color);\n",
              "    border-color: transparent;\n",
              "    border-bottom-color: var(--fill-color);\n",
              "    animation:\n",
              "      spin 1s steps(1) infinite;\n",
              "  }\n",
              "\n",
              "  @keyframes spin {\n",
              "    0% {\n",
              "      border-color: transparent;\n",
              "      border-bottom-color: var(--fill-color);\n",
              "      border-left-color: var(--fill-color);\n",
              "    }\n",
              "    20% {\n",
              "      border-color: transparent;\n",
              "      border-left-color: var(--fill-color);\n",
              "      border-top-color: var(--fill-color);\n",
              "    }\n",
              "    30% {\n",
              "      border-color: transparent;\n",
              "      border-left-color: var(--fill-color);\n",
              "      border-top-color: var(--fill-color);\n",
              "      border-right-color: var(--fill-color);\n",
              "    }\n",
              "    40% {\n",
              "      border-color: transparent;\n",
              "      border-right-color: var(--fill-color);\n",
              "      border-top-color: var(--fill-color);\n",
              "    }\n",
              "    60% {\n",
              "      border-color: transparent;\n",
              "      border-right-color: var(--fill-color);\n",
              "    }\n",
              "    80% {\n",
              "      border-color: transparent;\n",
              "      border-right-color: var(--fill-color);\n",
              "      border-bottom-color: var(--fill-color);\n",
              "    }\n",
              "    90% {\n",
              "      border-color: transparent;\n",
              "      border-bottom-color: var(--fill-color);\n",
              "    }\n",
              "  }\n",
              "</style>\n",
              "\n",
              "  <script>\n",
              "    async function quickchart(key) {\n",
              "      const quickchartButtonEl =\n",
              "        document.querySelector('#' + key + ' button');\n",
              "      quickchartButtonEl.disabled = true;  // To prevent multiple clicks.\n",
              "      quickchartButtonEl.classList.add('colab-df-spinner');\n",
              "      try {\n",
              "        const charts = await google.colab.kernel.invokeFunction(\n",
              "            'suggestCharts', [key], {});\n",
              "      } catch (error) {\n",
              "        console.error('Error during call to suggestCharts:', error);\n",
              "      }\n",
              "      quickchartButtonEl.classList.remove('colab-df-spinner');\n",
              "      quickchartButtonEl.classList.add('colab-df-quickchart-complete');\n",
              "    }\n",
              "    (() => {\n",
              "      let quickchartButtonEl =\n",
              "        document.querySelector('#df-8fb60e88-c86a-4b31-bbc4-4b8428f8e2f5 button');\n",
              "      quickchartButtonEl.style.display =\n",
              "        google.colab.kernel.accessAllowed ? 'block' : 'none';\n",
              "    })();\n",
              "  </script>\n",
              "</div>\n",
              "\n",
              "    </div>\n",
              "  </div>\n"
            ],
            "application/vnd.google.colaboratory.intrinsic+json": {
              "type": "dataframe",
              "variable_name": "df"
            }
          },
          "metadata": {},
          "execution_count": 9
        }
      ]
    },
    {
      "cell_type": "code",
      "source": [
        "triplets = df.values.tolist()\n",
        "#print(triplets)"
      ],
      "metadata": {
        "id": "0ra6qDsLIpnz"
      },
      "execution_count": null,
      "outputs": []
    },
    {
      "cell_type": "markdown",
      "source": [
        "**Assign an ID to each node(Entity)**"
      ],
      "metadata": {
        "id": "xA6VTouAFTRc"
      }
    },
    {
      "cell_type": "code",
      "source": [
        "entity_dictionary = {}\n",
        "def insert_entry(entry, ent_type, dic):\n",
        "    if ent_type not in dic:\n",
        "        dic[ent_type] = {}\n",
        "    ent_n_id = len(dic[ent_type])\n",
        "    if entry not in dic[ent_type]:\n",
        "         dic[ent_type][entry] = ent_n_id\n",
        "    return dic\n",
        "\n",
        "for triple in triplets:\n",
        "    src = triple[0]\n",
        "    split_src = src.split('::')\n",
        "    src_type = split_src[0]\n",
        "    dest = triple[2]\n",
        "    split_dest = dest.split('::')\n",
        "    dest_type = split_dest[0]\n",
        "    insert_entry(src,src_type,entity_dictionary)\n",
        "    insert_entry(dest,dest_type,entity_dictionary)"
      ],
      "metadata": {
        "id": "qUWRkPt0I3Hy"
      },
      "execution_count": null,
      "outputs": []
    },
    {
      "cell_type": "markdown",
      "source": [
        "**Create a Dictionary of relations**"
      ],
      "metadata": {
        "id": "ewUjR6MfFhVH"
      }
    },
    {
      "cell_type": "code",
      "source": [
        "edge_dictionary={}\n",
        "for triple in triplets:\n",
        "    src = triple[0]\n",
        "    split_src = src.split('::')\n",
        "    src_type = split_src[0]\n",
        "    dest = triple[2]\n",
        "    split_dest = dest.split('::')\n",
        "    dest_type = split_dest[0]\n",
        "\n",
        "    src_int_id = entity_dictionary[src_type][src]\n",
        "    dest_int_id = entity_dictionary[dest_type][dest]\n",
        "\n",
        "    pair = (src_int_id,dest_int_id)\n",
        "    etype = (src_type,triple[1],dest_type)\n",
        "    if etype in edge_dictionary:\n",
        "        edge_dictionary[etype] += [pair]\n",
        "    else:\n",
        "        edge_dictionary[etype] = [pair]"
      ],
      "metadata": {
        "id": "EoKioCTeJrA-"
      },
      "execution_count": null,
      "outputs": []
    },
    {
      "cell_type": "code",
      "source": [],
      "metadata": {
        "colab": {
          "base_uri": "https://localhost:8080/"
        },
        "id": "ieAHk5rUKBNZ",
        "outputId": "f3bf0b39-0fb0-4beb-a4bf-2260cba55275"
      },
      "execution_count": null,
      "outputs": [
        {
          "output_type": "stream",
          "name": "stdout",
          "text": [
            "Collecting dgl\n",
            "  Downloading dgl-2.1.0-cp310-cp310-manylinux1_x86_64.whl (8.5 MB)\n",
            "\u001b[2K     \u001b[90m━━━━━━━━━━━━━━━━━━━━━━━━━━━━━━━━━━━━━━━━\u001b[0m \u001b[32m8.5/8.5 MB\u001b[0m \u001b[31m24.4 MB/s\u001b[0m eta \u001b[36m0:00:00\u001b[0m\n",
            "\u001b[?25hRequirement already satisfied: numpy>=1.14.0 in /usr/local/lib/python3.10/dist-packages (from dgl) (1.25.2)\n",
            "Requirement already satisfied: scipy>=1.1.0 in /usr/local/lib/python3.10/dist-packages (from dgl) (1.11.4)\n",
            "Requirement already satisfied: networkx>=2.1 in /usr/local/lib/python3.10/dist-packages (from dgl) (3.3)\n",
            "Requirement already satisfied: requests>=2.19.0 in /usr/local/lib/python3.10/dist-packages (from dgl) (2.31.0)\n",
            "Requirement already satisfied: tqdm in /usr/local/lib/python3.10/dist-packages (from dgl) (4.66.4)\n",
            "Requirement already satisfied: psutil>=5.8.0 in /usr/local/lib/python3.10/dist-packages (from dgl) (5.9.5)\n",
            "Collecting torchdata>=0.5.0 (from dgl)\n",
            "  Downloading torchdata-0.7.1-cp310-cp310-manylinux_2_17_x86_64.manylinux2014_x86_64.whl (4.7 MB)\n",
            "\u001b[2K     \u001b[90m━━━━━━━━━━━━━━━━━━━━━━━━━━━━━━━━━━━━━━━━\u001b[0m \u001b[32m4.7/4.7 MB\u001b[0m \u001b[31m59.2 MB/s\u001b[0m eta \u001b[36m0:00:00\u001b[0m\n",
            "\u001b[?25hRequirement already satisfied: charset-normalizer<4,>=2 in /usr/local/lib/python3.10/dist-packages (from requests>=2.19.0->dgl) (3.3.2)\n",
            "Requirement already satisfied: idna<4,>=2.5 in /usr/local/lib/python3.10/dist-packages (from requests>=2.19.0->dgl) (3.7)\n",
            "Requirement already satisfied: urllib3<3,>=1.21.1 in /usr/local/lib/python3.10/dist-packages (from requests>=2.19.0->dgl) (2.0.7)\n",
            "Requirement already satisfied: certifi>=2017.4.17 in /usr/local/lib/python3.10/dist-packages (from requests>=2.19.0->dgl) (2024.2.2)\n",
            "Requirement already satisfied: torch>=2 in /usr/local/lib/python3.10/dist-packages (from torchdata>=0.5.0->dgl) (2.3.0+cu121)\n",
            "Requirement already satisfied: filelock in /usr/local/lib/python3.10/dist-packages (from torch>=2->torchdata>=0.5.0->dgl) (3.14.0)\n",
            "Requirement already satisfied: typing-extensions>=4.8.0 in /usr/local/lib/python3.10/dist-packages (from torch>=2->torchdata>=0.5.0->dgl) (4.11.0)\n",
            "Requirement already satisfied: sympy in /usr/local/lib/python3.10/dist-packages (from torch>=2->torchdata>=0.5.0->dgl) (1.12)\n",
            "Requirement already satisfied: jinja2 in /usr/local/lib/python3.10/dist-packages (from torch>=2->torchdata>=0.5.0->dgl) (3.1.4)\n",
            "Requirement already satisfied: fsspec in /usr/local/lib/python3.10/dist-packages (from torch>=2->torchdata>=0.5.0->dgl) (2023.6.0)\n",
            "Collecting nvidia-cuda-nvrtc-cu12==12.1.105 (from torch>=2->torchdata>=0.5.0->dgl)\n",
            "  Using cached nvidia_cuda_nvrtc_cu12-12.1.105-py3-none-manylinux1_x86_64.whl (23.7 MB)\n",
            "Collecting nvidia-cuda-runtime-cu12==12.1.105 (from torch>=2->torchdata>=0.5.0->dgl)\n",
            "  Using cached nvidia_cuda_runtime_cu12-12.1.105-py3-none-manylinux1_x86_64.whl (823 kB)\n",
            "Collecting nvidia-cuda-cupti-cu12==12.1.105 (from torch>=2->torchdata>=0.5.0->dgl)\n",
            "  Using cached nvidia_cuda_cupti_cu12-12.1.105-py3-none-manylinux1_x86_64.whl (14.1 MB)\n",
            "Collecting nvidia-cudnn-cu12==8.9.2.26 (from torch>=2->torchdata>=0.5.0->dgl)\n",
            "  Using cached nvidia_cudnn_cu12-8.9.2.26-py3-none-manylinux1_x86_64.whl (731.7 MB)\n",
            "Collecting nvidia-cublas-cu12==12.1.3.1 (from torch>=2->torchdata>=0.5.0->dgl)\n",
            "\u001b[31mERROR: Operation cancelled by user\u001b[0m\u001b[31m\n",
            "\u001b[0m"
          ]
        }
      ]
    },
    {
      "cell_type": "code",
      "source": [],
      "metadata": {
        "id": "Mx6vo0O8KYjr"
      },
      "execution_count": null,
      "outputs": []
    },
    {
      "cell_type": "code",
      "source": [],
      "metadata": {
        "id": "Ojawm17yLb_I"
      },
      "execution_count": null,
      "outputs": []
    },
    {
      "cell_type": "code",
      "source": [],
      "metadata": {
        "colab": {
          "base_uri": "https://localhost:8080/"
        },
        "id": "ZZ_18U8HNGa1",
        "outputId": "ccf0d88b-e8ed-4402-a4ab-2b9b31c6bea6"
      },
      "execution_count": null,
      "outputs": [
        {
          "output_type": "stream",
          "name": "stdout",
          "text": [
            "DGL not found!\n"
          ]
        }
      ]
    },
    {
      "cell_type": "code",
      "source": [
        "!pip install torch==2.0.1+cpu torchvision==0.15.2+cpu torchaudio==2.0.2+cpu -f https://download.pytorch.org/whl/torch_stable.html\n",
        "!pip install dgl==1.0.0\n"
      ],
      "metadata": {
        "colab": {
          "base_uri": "https://localhost:8080/"
        },
        "id": "HOES1saJKwZ-",
        "outputId": "d8c12fd9-09c5-49eb-84df-e27bbef33bae"
      },
      "execution_count": null,
      "outputs": [
        {
          "output_type": "stream",
          "name": "stdout",
          "text": [
            "Looking in links: https://download.pytorch.org/whl/torch_stable.html\n",
            "Collecting torch==2.0.1+cpu\n",
            "  Downloading https://download.pytorch.org/whl/cpu/torch-2.0.1%2Bcpu-cp310-cp310-linux_x86_64.whl (195.4 MB)\n",
            "\u001b[2K     \u001b[90m━━━━━━━━━━━━━━━━━━━━━━━━━━━━━━━━━━━━━━━━\u001b[0m \u001b[32m195.4/195.4 MB\u001b[0m \u001b[31m5.3 MB/s\u001b[0m eta \u001b[36m0:00:00\u001b[0m\n",
            "\u001b[?25hCollecting torchvision==0.15.2+cpu\n",
            "  Downloading https://download.pytorch.org/whl/cpu/torchvision-0.15.2%2Bcpu-cp310-cp310-linux_x86_64.whl (1.5 MB)\n",
            "\u001b[2K     \u001b[90m━━━━━━━━━━━━━━━━━━━━━━━━━━━━━━━━━━━━━━━━\u001b[0m \u001b[32m1.5/1.5 MB\u001b[0m \u001b[31m43.6 MB/s\u001b[0m eta \u001b[36m0:00:00\u001b[0m\n",
            "\u001b[?25hCollecting torchaudio==2.0.2+cpu\n",
            "  Downloading https://download.pytorch.org/whl/cpu/torchaudio-2.0.2%2Bcpu-cp310-cp310-linux_x86_64.whl (4.1 MB)\n",
            "\u001b[2K     \u001b[90m━━━━━━━━━━━━━━━━━━━━━━━━━━━━━━━━━━━━━━━━\u001b[0m \u001b[32m4.1/4.1 MB\u001b[0m \u001b[31m70.8 MB/s\u001b[0m eta \u001b[36m0:00:00\u001b[0m\n",
            "\u001b[?25hRequirement already satisfied: filelock in /usr/local/lib/python3.10/dist-packages (from torch==2.0.1+cpu) (3.14.0)\n",
            "Requirement already satisfied: typing-extensions in /usr/local/lib/python3.10/dist-packages (from torch==2.0.1+cpu) (4.11.0)\n",
            "Requirement already satisfied: sympy in /usr/local/lib/python3.10/dist-packages (from torch==2.0.1+cpu) (1.12)\n",
            "Requirement already satisfied: networkx in /usr/local/lib/python3.10/dist-packages (from torch==2.0.1+cpu) (3.3)\n",
            "Requirement already satisfied: jinja2 in /usr/local/lib/python3.10/dist-packages (from torch==2.0.1+cpu) (3.1.4)\n",
            "Requirement already satisfied: numpy in /usr/local/lib/python3.10/dist-packages (from torchvision==0.15.2+cpu) (1.25.2)\n",
            "Requirement already satisfied: requests in /usr/local/lib/python3.10/dist-packages (from torchvision==0.15.2+cpu) (2.31.0)\n",
            "Requirement already satisfied: pillow!=8.3.*,>=5.3.0 in /usr/local/lib/python3.10/dist-packages (from torchvision==0.15.2+cpu) (9.4.0)\n",
            "Requirement already satisfied: MarkupSafe>=2.0 in /usr/local/lib/python3.10/dist-packages (from jinja2->torch==2.0.1+cpu) (2.1.5)\n",
            "Requirement already satisfied: charset-normalizer<4,>=2 in /usr/local/lib/python3.10/dist-packages (from requests->torchvision==0.15.2+cpu) (3.3.2)\n",
            "Requirement already satisfied: idna<4,>=2.5 in /usr/local/lib/python3.10/dist-packages (from requests->torchvision==0.15.2+cpu) (3.7)\n",
            "Requirement already satisfied: urllib3<3,>=1.21.1 in /usr/local/lib/python3.10/dist-packages (from requests->torchvision==0.15.2+cpu) (2.0.7)\n",
            "Requirement already satisfied: certifi>=2017.4.17 in /usr/local/lib/python3.10/dist-packages (from requests->torchvision==0.15.2+cpu) (2024.2.2)\n",
            "Requirement already satisfied: mpmath>=0.19 in /usr/local/lib/python3.10/dist-packages (from sympy->torch==2.0.1+cpu) (1.3.0)\n",
            "Installing collected packages: torch, torchvision, torchaudio\n",
            "  Attempting uninstall: torch\n",
            "    Found existing installation: torch 1.13.1+cpu\n",
            "    Uninstalling torch-1.13.1+cpu:\n",
            "      Successfully uninstalled torch-1.13.1+cpu\n",
            "  Attempting uninstall: torchvision\n",
            "    Found existing installation: torchvision 0.14.1+cpu\n",
            "    Uninstalling torchvision-0.14.1+cpu:\n",
            "      Successfully uninstalled torchvision-0.14.1+cpu\n",
            "  Attempting uninstall: torchaudio\n",
            "    Found existing installation: torchaudio 0.13.1+cpu\n",
            "    Uninstalling torchaudio-0.13.1+cpu:\n",
            "      Successfully uninstalled torchaudio-0.13.1+cpu\n",
            "\u001b[31mERROR: pip's dependency resolver does not currently take into account all the packages that are installed. This behaviour is the source of the following dependency conflicts.\n",
            "torchtext 0.18.0 requires torch>=2.3.0, but you have torch 2.0.1+cpu which is incompatible.\u001b[0m\u001b[31m\n",
            "\u001b[0mSuccessfully installed torch-2.0.1+cpu torchaudio-2.0.2+cpu torchvision-0.15.2+cpu\n",
            "Collecting dgl==1.0.0\n",
            "  Downloading dgl-1.0.0-cp310-cp310-manylinux1_x86_64.whl (5.4 MB)\n",
            "\u001b[2K     \u001b[90m━━━━━━━━━━━━━━━━━━━━━━━━━━━━━━━━━━━━━━━━\u001b[0m \u001b[32m5.4/5.4 MB\u001b[0m \u001b[31m19.2 MB/s\u001b[0m eta \u001b[36m0:00:00\u001b[0m\n",
            "\u001b[?25hRequirement already satisfied: numpy>=1.14.0 in /usr/local/lib/python3.10/dist-packages (from dgl==1.0.0) (1.25.2)\n",
            "Requirement already satisfied: scipy>=1.1.0 in /usr/local/lib/python3.10/dist-packages (from dgl==1.0.0) (1.11.4)\n",
            "Requirement already satisfied: networkx>=2.1 in /usr/local/lib/python3.10/dist-packages (from dgl==1.0.0) (3.3)\n",
            "Requirement already satisfied: requests>=2.19.0 in /usr/local/lib/python3.10/dist-packages (from dgl==1.0.0) (2.31.0)\n",
            "Requirement already satisfied: tqdm in /usr/local/lib/python3.10/dist-packages (from dgl==1.0.0) (4.66.4)\n",
            "Requirement already satisfied: psutil>=5.8.0 in /usr/local/lib/python3.10/dist-packages (from dgl==1.0.0) (5.9.5)\n",
            "Requirement already satisfied: charset-normalizer<4,>=2 in /usr/local/lib/python3.10/dist-packages (from requests>=2.19.0->dgl==1.0.0) (3.3.2)\n",
            "Requirement already satisfied: idna<4,>=2.5 in /usr/local/lib/python3.10/dist-packages (from requests>=2.19.0->dgl==1.0.0) (3.7)\n",
            "Requirement already satisfied: urllib3<3,>=1.21.1 in /usr/local/lib/python3.10/dist-packages (from requests>=2.19.0->dgl==1.0.0) (2.0.7)\n",
            "Requirement already satisfied: certifi>=2017.4.17 in /usr/local/lib/python3.10/dist-packages (from requests>=2.19.0->dgl==1.0.0) (2024.2.2)\n",
            "Installing collected packages: dgl\n",
            "  Attempting uninstall: dgl\n",
            "    Found existing installation: dgl 1.0.1\n",
            "    Uninstalling dgl-1.0.1:\n",
            "      Successfully uninstalled dgl-1.0.1\n",
            "Successfully installed dgl-1.0.0\n"
          ]
        }
      ]
    },
    {
      "cell_type": "code",
      "source": [
        "import dgl\n",
        "print(dgl.__version__)\n"
      ],
      "metadata": {
        "colab": {
          "base_uri": "https://localhost:8080/"
        },
        "id": "hqo_6Z4CRP-3",
        "outputId": "43506b43-6852-43a4-fcdc-97189d3ca62a"
      },
      "execution_count": null,
      "outputs": [
        {
          "output_type": "stream",
          "name": "stdout",
          "text": [
            "1.0.0\n"
          ]
        }
      ]
    },
    {
      "cell_type": "markdown",
      "source": [
        "Create a DGL heterograph using the dictionary of relations"
      ],
      "metadata": {
        "id": "LFBHIiTQF4HS"
      }
    },
    {
      "cell_type": "code",
      "source": [
        "graph = dgl.heterograph(edge_dictionary);"
      ],
      "metadata": {
        "id": "_S3PSNidTNpV"
      },
      "execution_count": null,
      "outputs": []
    },
    {
      "cell_type": "code",
      "source": [
        "total_nodes = 0;\n",
        "for ntype in graph.ntypes:\n",
        "    print(ntype, '\\t', graph.number_of_nodes(ntype));\n",
        "    total_nodes += graph.number_of_nodes(ntype);\n",
        "print(\"Graph contains {} nodes from {} node-types.\".format(total_nodes, len(graph.ntypes)))"
      ],
      "metadata": {
        "colab": {
          "base_uri": "https://localhost:8080/"
        },
        "id": "sEo-ravfTs3t",
        "outputId": "0923c3b5-a741-4985-8b37-b5f6b1e88293"
      },
      "execution_count": null,
      "outputs": [
        {
          "output_type": "stream",
          "name": "stdout",
          "text": [
            "Anatomy \t 400\n",
            "Atc \t 4048\n",
            "Biological Process \t 11381\n",
            "Cellular Component \t 1391\n",
            "Compound \t 24313\n",
            "Disease \t 5103\n",
            "Gene \t 39220\n",
            "Molecular Function \t 2884\n",
            "Pathway \t 1822\n",
            "Pharmacologic Class \t 345\n",
            "Side Effect \t 5701\n",
            "Symptom \t 415\n",
            "Tax \t 215\n",
            "Graph contains 97238 nodes from 13 node-types.\n"
          ]
        }
      ]
    },
    {
      "cell_type": "code",
      "source": [
        "total_edges = 0;\n",
        "for etype in graph.etypes:\n",
        "    print(etype, '\\t', graph.number_of_edges(etype))\n",
        "    total_edges += graph.number_of_edges(etype);\n",
        "print(\"Graph contains {} edges from {} edge-types.\".format(total_edges, len(graph.etypes)))"
      ],
      "metadata": {
        "colab": {
          "base_uri": "https://localhost:8080/"
        },
        "id": "F7R5zxzrTu80",
        "outputId": "cc657983-311c-4152-bd31-db87fccacec9"
      },
      "execution_count": null,
      "outputs": [
        {
          "output_type": "stream",
          "name": "stdout",
          "text": [
            "Hetionet::AdG::Anatomy:Gene \t 102240\n",
            "Hetionet::AeG::Anatomy:Gene \t 526407\n",
            "Hetionet::AuG::Anatomy:Gene \t 97848\n",
            "DRUGBANK::carrier::Compound:Gene \t 720\n",
            "DRUGBANK::ddi-interactor-in::Compound:Compound \t 1379271\n",
            "DRUGBANK::enzyme::Compound:Gene \t 4923\n",
            "DRUGBANK::target::Compound:Gene \t 19158\n",
            "DRUGBANK::treats::Compound:Disease \t 4968\n",
            "DRUGBANK::x-atc::Compound:Atc \t 15750\n",
            "GNBR::A+::Compound:Gene \t 1568\n",
            "GNBR::A-::Compound:Gene \t 1108\n",
            "GNBR::B::Compound:Gene \t 7170\n",
            "GNBR::C::Compound:Disease \t 1739\n",
            "GNBR::E+::Compound:Gene \t 1970\n",
            "GNBR::E-::Compound:Gene \t 2918\n",
            "GNBR::E::Compound:Gene \t 32743\n",
            "GNBR::J::Compound:Disease \t 1020\n",
            "GNBR::K::Compound:Gene \t 12411\n",
            "GNBR::Mp::Compound:Disease \t 495\n",
            "GNBR::N::Compound:Gene \t 12521\n",
            "GNBR::O::Compound:Gene \t 5573\n",
            "GNBR::Pa::Compound:Disease \t 2619\n",
            "GNBR::Pr::Compound:Disease \t 966\n",
            "GNBR::Sa::Compound:Disease \t 16923\n",
            "GNBR::T::Compound:Disease \t 54020\n",
            "GNBR::Z::Compound:Gene \t 2821\n",
            "Hetionet::CbG::Compound:Gene \t 11571\n",
            "Hetionet::CcSE::Compound:Side Effect \t 138944\n",
            "Hetionet::CdG::Compound:Gene \t 21102\n",
            "Hetionet::CpD::Compound:Disease \t 390\n",
            "Hetionet::CrC::Compound:Compound \t 6486\n",
            "Hetionet::CtD::Compound:Disease \t 755\n",
            "Hetionet::CuG::Compound:Gene \t 18756\n",
            "INTACT::ASSOCIATION::Compound:Gene \t 1447\n",
            "INTACT::DIRECT INTERACTION::Compound:Gene \t 155\n",
            "INTACT::PHYSICAL ASSOCIATION::Compound:Gene \t 203\n",
            "bioarx::DrugHumGen:Compound:Gene \t 24501\n",
            "bioarx::DrugVirGen:Compound:Gene \t 1165\n",
            "Hetionet::DaG::Disease:Gene \t 12623\n",
            "Hetionet::DdG::Disease:Gene \t 7623\n",
            "Hetionet::DlA::Disease:Anatomy \t 3602\n",
            "Hetionet::DpS::Disease:Symptom \t 3357\n",
            "Hetionet::DrD::Disease:Disease \t 543\n",
            "Hetionet::DuG::Disease:Gene \t 7731\n",
            "bioarx::Coronavirus_ass_host_gene::Disease:Gene \t 129\n",
            "bioarx::Covid2_acc_host_gene::Disease:Gene \t 332\n",
            "DGIDB::ACTIVATOR::Gene:Compound \t 316\n",
            "DGIDB::AGONIST::Gene:Compound \t 3012\n",
            "DGIDB::ALLOSTERIC MODULATOR::Gene:Compound \t 317\n",
            "DGIDB::ANTAGONIST::Gene:Compound \t 3006\n",
            "DGIDB::ANTIBODY::Gene:Compound \t 188\n",
            "DGIDB::BINDER::Gene:Compound \t 143\n",
            "DGIDB::BLOCKER::Gene:Compound \t 979\n",
            "DGIDB::CHANNEL BLOCKER::Gene:Compound \t 352\n",
            "DGIDB::INHIBITOR::Gene:Compound \t 5971\n",
            "DGIDB::MODULATOR::Gene:Compound \t 243\n",
            "DGIDB::OTHER::Gene:Compound \t 11070\n",
            "DGIDB::PARTIAL AGONIST::Gene:Compound \t 75\n",
            "DGIDB::POSITIVE ALLOSTERIC MODULATOR::Gene:Compound \t 618\n",
            "GNBR::B::Gene:Gene \t 8164\n",
            "GNBR::D::Gene:Disease \t 500\n",
            "GNBR::E+::Gene:Gene \t 10838\n",
            "GNBR::E::Gene:Gene \t 418\n",
            "GNBR::G::Gene:Disease \t 2055\n",
            "GNBR::H::Gene:Gene \t 2509\n",
            "GNBR::I::Gene:Gene \t 5434\n",
            "GNBR::J::Gene:Disease \t 30234\n",
            "GNBR::L::Gene:Disease \t 48384\n",
            "GNBR::Md::Gene:Disease \t 1279\n",
            "GNBR::Q::Gene:Gene \t 19372\n",
            "GNBR::Rg::Gene:Gene \t 11018\n",
            "GNBR::Te::Gene:Disease \t 2836\n",
            "GNBR::U::Gene:Disease \t 6432\n",
            "GNBR::Ud::Gene:Disease \t 407\n",
            "GNBR::V+::Gene:Gene \t 8689\n",
            "GNBR::W::Gene:Gene \t 280\n",
            "GNBR::X::Gene:Disease \t 1324\n",
            "GNBR::Y::Gene:Disease \t 1948\n",
            "GNBR::in_tax::Gene:Tax \t 14663\n",
            "Hetionet::GcG::Gene:Gene \t 61690\n",
            "Hetionet::GiG::Gene:Gene \t 147164\n",
            "Hetionet::GpBP::Gene:Biological Process \t 559504\n",
            "Hetionet::GpCC::Gene:Cellular Component \t 73566\n",
            "Hetionet::GpMF::Gene:Molecular Function \t 97222\n",
            "Hetionet::GpPW::Gene:Pathway \t 84372\n",
            "Hetionet::Gr>G::Gene:Gene \t 265672\n",
            "INTACT::ADP RIBOSYLATION REACTION::Gene:Gene \t 58\n",
            "INTACT::ASSOCIATION::Gene:Gene \t 112390\n",
            "INTACT::CLEAVAGE REACTION::Gene:Gene \t 93\n",
            "INTACT::COLOCALIZATION::Gene:Gene \t 3468\n",
            "INTACT::DEPHOSPHORYLATION REACTION::Gene:Gene \t 303\n",
            "INTACT::DIRECT INTERACTION::Gene:Gene \t 6950\n",
            "INTACT::PHOSPHORYLATION REACTION::Gene:Gene \t 1328\n",
            "INTACT::PHYSICAL ASSOCIATION::Gene:Gene \t 129318\n",
            "INTACT::PROTEIN CLEAVAGE::Gene:Gene \t 67\n",
            "INTACT::UBIQUITINATION REACTION::Gene:Gene \t 371\n",
            "STRING::ACTIVATION::Gene:Gene \t 81355\n",
            "STRING::BINDING::Gene:Gene \t 315875\n",
            "STRING::CATALYSIS::Gene:Gene \t 343533\n",
            "STRING::EXPRESSION::Gene:Gene \t 757\n",
            "STRING::INHIBITION::Gene:Gene \t 28959\n",
            "STRING::OTHER::Gene:Gene \t 310690\n",
            "STRING::PTMOD::Gene:Gene \t 15113\n",
            "STRING::REACTION::Gene:Gene \t 400426\n",
            "bioarx::HumGenHumGen:Gene:Gene \t 58094\n",
            "bioarx::VirGenHumGen:Gene:Gene \t 535\n",
            "Hetionet::PCiC::Pharmacologic Class:Compound \t 1029\n",
            "Graph contains 5874261 edges from 107 edge-types.\n"
          ]
        }
      ]
    }
  ]
}